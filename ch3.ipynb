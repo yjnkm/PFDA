{
 "cells": [
  {
   "cell_type": "markdown",
   "id": "a6c87955",
   "metadata": {},
   "source": [
    "# 3.1 자료구조와 순차 자료형 "
   ]
  },
  {
   "cell_type": "code",
   "execution_count": 1,
   "id": "c64be46a",
   "metadata": {},
   "outputs": [],
   "source": [
    "#3.1.1 튜플 : 1차원의 고정된 크기를 가지는 변경 불가능한 순차 자료형\n",
    "\n",
    "tup = 4,5,6"
   ]
  },
  {
   "cell_type": "code",
   "execution_count": 2,
   "id": "dcc15cdd",
   "metadata": {},
   "outputs": [
    {
     "data": {
      "text/plain": [
       "(4, 5, 6)"
      ]
     },
     "execution_count": 2,
     "metadata": {},
     "output_type": "execute_result"
    }
   ],
   "source": [
    "tup"
   ]
  },
  {
   "cell_type": "code",
   "execution_count": 4,
   "id": "70e96b4f",
   "metadata": {},
   "outputs": [],
   "source": [
    "nested_tup = (4,5,6) , (7,8)"
   ]
  },
  {
   "cell_type": "code",
   "execution_count": 5,
   "id": "ee834039",
   "metadata": {},
   "outputs": [
    {
     "data": {
      "text/plain": [
       "((4, 5, 6), (7, 8))"
      ]
     },
     "execution_count": 5,
     "metadata": {},
     "output_type": "execute_result"
    }
   ],
   "source": [
    "nested_tup"
   ]
  },
  {
   "cell_type": "code",
   "execution_count": 7,
   "id": "88113b66",
   "metadata": {},
   "outputs": [],
   "source": [
    "tup = tuple('string')"
   ]
  },
  {
   "cell_type": "code",
   "execution_count": 8,
   "id": "36a4afc2",
   "metadata": {},
   "outputs": [
    {
     "data": {
      "text/plain": [
       "('s', 't', 'r', 'i', 'n', 'g')"
      ]
     },
     "execution_count": 8,
     "metadata": {},
     "output_type": "execute_result"
    }
   ],
   "source": [
    "tup"
   ]
  },
  {
   "cell_type": "code",
   "execution_count": 9,
   "id": "b1047d71",
   "metadata": {},
   "outputs": [
    {
     "data": {
      "text/plain": [
       "'s'"
      ]
     },
     "execution_count": 9,
     "metadata": {},
     "output_type": "execute_result"
    }
   ],
   "source": [
    "tup[0] #index는 0부터"
   ]
  },
  {
   "cell_type": "code",
   "execution_count": 10,
   "id": "b9052d0f",
   "metadata": {},
   "outputs": [],
   "source": [
    "tup = tuple(['foo', [1,2], True]) #저장된 객체 변경은 가능하지만, 각 슬롯에 저장된 객체 변경은 불가능!"
   ]
  },
  {
   "cell_type": "code",
   "execution_count": 11,
   "id": "3e48d23c",
   "metadata": {},
   "outputs": [
    {
     "ename": "TypeError",
     "evalue": "'tuple' object does not support item assignment",
     "output_type": "error",
     "traceback": [
      "\u001b[0;31m---------------------------------------------------------------------------\u001b[0m",
      "\u001b[0;31mTypeError\u001b[0m                                 Traceback (most recent call last)",
      "Input \u001b[0;32mIn [11]\u001b[0m, in \u001b[0;36m<cell line: 1>\u001b[0;34m()\u001b[0m\n\u001b[0;32m----> 1\u001b[0m tup[\u001b[38;5;241m2\u001b[39m] \u001b[38;5;241m=\u001b[39m \u001b[38;5;28;01mFalse\u001b[39;00m\n",
      "\u001b[0;31mTypeError\u001b[0m: 'tuple' object does not support item assignment"
     ]
    }
   ],
   "source": [
    "tup[2] = False "
   ]
  },
  {
   "cell_type": "code",
   "execution_count": 12,
   "id": "8b7337d1",
   "metadata": {},
   "outputs": [],
   "source": [
    "tup[1].append(3)"
   ]
  },
  {
   "cell_type": "code",
   "execution_count": 13,
   "id": "824dfb56",
   "metadata": {},
   "outputs": [
    {
     "data": {
      "text/plain": [
       "('foo', [1, 2, 3], True)"
      ]
     },
     "execution_count": 13,
     "metadata": {},
     "output_type": "execute_result"
    }
   ],
   "source": [
    "tup"
   ]
  },
  {
   "cell_type": "markdown",
   "id": "32075d4b",
   "metadata": {},
   "source": [
    " + 이용시 튜플을 이어붙일수 있고, * 이용하면 튜플 복사본 반복"
   ]
  },
  {
   "cell_type": "code",
   "execution_count": 14,
   "id": "ce05a69e",
   "metadata": {},
   "outputs": [],
   "source": [
    "#튜플 값 분리 : 변수 이름 바꾸거나 튜플 또는 리스트를 순회할 때도 활용가능\n",
    "tup = (4,5,6)"
   ]
  },
  {
   "cell_type": "code",
   "execution_count": 15,
   "id": "2cdcf000",
   "metadata": {},
   "outputs": [],
   "source": [
    "a, b, c = tup"
   ]
  },
  {
   "cell_type": "code",
   "execution_count": 16,
   "id": "a059d4f9",
   "metadata": {},
   "outputs": [
    {
     "data": {
      "text/plain": [
       "5"
      ]
     },
     "execution_count": 16,
     "metadata": {},
     "output_type": "execute_result"
    }
   ],
   "source": [
    "b"
   ]
  },
  {
   "cell_type": "code",
   "execution_count": 19,
   "id": "4d1e9b13",
   "metadata": {},
   "outputs": [],
   "source": [
    "#길이를 알수 없는 값 분리하기 위해서 특수문법인 *rest(or *_) 사용\n",
    "\n",
    "values = 1,2,3,4,5"
   ]
  },
  {
   "cell_type": "code",
   "execution_count": 20,
   "id": "64a0f7a0",
   "metadata": {},
   "outputs": [],
   "source": [
    "a,b,*rest = values"
   ]
  },
  {
   "cell_type": "code",
   "execution_count": 21,
   "id": "b8384097",
   "metadata": {},
   "outputs": [
    {
     "data": {
      "text/plain": [
       "(1, 2)"
      ]
     },
     "execution_count": 21,
     "metadata": {},
     "output_type": "execute_result"
    }
   ],
   "source": [
    "a,b"
   ]
  },
  {
   "cell_type": "code",
   "execution_count": 22,
   "id": "351652ff",
   "metadata": {},
   "outputs": [
    {
     "data": {
      "text/plain": [
       "[3, 4, 5]"
      ]
     },
     "execution_count": 22,
     "metadata": {},
     "output_type": "execute_result"
    }
   ],
   "source": [
    "rest"
   ]
  },
  {
   "cell_type": "code",
   "execution_count": 23,
   "id": "6da06213",
   "metadata": {},
   "outputs": [],
   "source": [
    "#튜플 메서드\n",
    "\n",
    "a = (1,2,2,2,3,4,2)"
   ]
  },
  {
   "cell_type": "code",
   "execution_count": 24,
   "id": "165a10ab",
   "metadata": {},
   "outputs": [
    {
     "data": {
      "text/plain": [
       "4"
      ]
     },
     "execution_count": 24,
     "metadata": {},
     "output_type": "execute_result"
    }
   ],
   "source": [
    "a.count(2) #튜플 a에서 2의 개수"
   ]
  },
  {
   "cell_type": "code",
   "execution_count": 25,
   "id": "911adb69",
   "metadata": {},
   "outputs": [],
   "source": [
    "#3.1.2 리스트 : 1차원 순차 자료형.튜플과는 대조적으로 크기나 내용 변경이 가능. []나 list함수 사용하여 생성\n",
    "\n",
    "a_list = [1,2,7,None]"
   ]
  },
  {
   "cell_type": "code",
   "execution_count": 26,
   "id": "b4fc8a83",
   "metadata": {},
   "outputs": [],
   "source": [
    "tup = ('foo', 'bar', 'baz')"
   ]
  },
  {
   "cell_type": "code",
   "execution_count": 27,
   "id": "f4176e70",
   "metadata": {},
   "outputs": [],
   "source": [
    "b_list = list(tup)"
   ]
  },
  {
   "cell_type": "code",
   "execution_count": 28,
   "id": "3efc8a6a",
   "metadata": {},
   "outputs": [
    {
     "data": {
      "text/plain": [
       "['foo', 'bar', 'baz']"
      ]
     },
     "execution_count": 28,
     "metadata": {},
     "output_type": "execute_result"
    }
   ],
   "source": [
    "b_list"
   ]
  },
  {
   "cell_type": "code",
   "execution_count": 29,
   "id": "691ebb0e",
   "metadata": {},
   "outputs": [],
   "source": [
    "b_list[1] = 'peekaboo'"
   ]
  },
  {
   "cell_type": "code",
   "execution_count": 30,
   "id": "a9452b25",
   "metadata": {},
   "outputs": [
    {
     "data": {
      "text/plain": [
       "['foo', 'peekaboo', 'baz']"
      ]
     },
     "execution_count": 30,
     "metadata": {},
     "output_type": "execute_result"
    }
   ],
   "source": [
    "b_list"
   ]
  },
  {
   "cell_type": "code",
   "execution_count": 31,
   "id": "62a52993",
   "metadata": {},
   "outputs": [
    {
     "data": {
      "text/plain": [
       "range(0, 10)"
      ]
     },
     "execution_count": 31,
     "metadata": {},
     "output_type": "execute_result"
    }
   ],
   "source": [
    "#list함수는 iterator나 generator표현에서 실제 값을 담기 위한 용도로도 사용\n",
    "\n",
    "gen = range(10)\n",
    "gen"
   ]
  },
  {
   "cell_type": "code",
   "execution_count": 32,
   "id": "aa7c43ae",
   "metadata": {},
   "outputs": [
    {
     "data": {
      "text/plain": [
       "[0, 1, 2, 3, 4, 5, 6, 7, 8, 9]"
      ]
     },
     "execution_count": 32,
     "metadata": {},
     "output_type": "execute_result"
    }
   ],
   "source": [
    "list(gen)"
   ]
  },
  {
   "cell_type": "code",
   "execution_count": 33,
   "id": "382e260d",
   "metadata": {},
   "outputs": [],
   "source": [
    "#append 메서드 : 리스트 끝에 새로운 값 추가\n",
    "\n",
    "b_list.append('dwarf')"
   ]
  },
  {
   "cell_type": "code",
   "execution_count": 34,
   "id": "51ddf6d0",
   "metadata": {},
   "outputs": [
    {
     "data": {
      "text/plain": [
       "['foo', 'peekaboo', 'baz', 'dwarf']"
      ]
     },
     "execution_count": 34,
     "metadata": {},
     "output_type": "execute_result"
    }
   ],
   "source": [
    "b_list"
   ]
  },
  {
   "cell_type": "code",
   "execution_count": 35,
   "id": "5e1a12f6",
   "metadata": {},
   "outputs": [
    {
     "data": {
      "text/plain": [
       "['foo', 'red', 'peekaboo', 'baz', 'dwarf']"
      ]
     },
     "execution_count": 35,
     "metadata": {},
     "output_type": "execute_result"
    }
   ],
   "source": [
    "#insert 메서드 : 리스트의 특정 위치에 값 추가\n",
    "\n",
    "b_list.insert(1, 'red')\n",
    "b_list"
   ]
  },
  {
   "cell_type": "code",
   "execution_count": 36,
   "id": "543e7ba6",
   "metadata": {},
   "outputs": [
    {
     "data": {
      "text/plain": [
       "'peekaboo'"
      ]
     },
     "execution_count": 36,
     "metadata": {},
     "output_type": "execute_result"
    }
   ],
   "source": [
    "#poo 메서드 : 특정 위치 값 반환하고 리스트에서 삭제\n",
    "\n",
    "b_list.pop(2)"
   ]
  },
  {
   "cell_type": "code",
   "execution_count": 37,
   "id": "9ad903f2",
   "metadata": {},
   "outputs": [
    {
     "data": {
      "text/plain": [
       "['foo', 'red', 'baz', 'dwarf']"
      ]
     },
     "execution_count": 37,
     "metadata": {},
     "output_type": "execute_result"
    }
   ],
   "source": [
    "b_list"
   ]
  },
  {
   "cell_type": "code",
   "execution_count": 38,
   "id": "77cbb78a",
   "metadata": {},
   "outputs": [
    {
     "data": {
      "text/plain": [
       "['foo', 'red', 'baz', 'dwarf', 'foo']"
      ]
     },
     "execution_count": 38,
     "metadata": {},
     "output_type": "execute_result"
    }
   ],
   "source": [
    "#remove 메서드 : 원소 삭제. 중복된 값이 있을 경우는 앞의 값부터\n",
    "\n",
    "b_list.append('foo')\n",
    "b_list"
   ]
  },
  {
   "cell_type": "code",
   "execution_count": 39,
   "id": "2c46998d",
   "metadata": {},
   "outputs": [
    {
     "data": {
      "text/plain": [
       "['red', 'baz', 'dwarf', 'foo']"
      ]
     },
     "execution_count": 39,
     "metadata": {},
     "output_type": "execute_result"
    }
   ],
   "source": [
    "b_list.remove('foo')\n",
    "b_list"
   ]
  },
  {
   "cell_type": "code",
   "execution_count": 40,
   "id": "57d0bd66",
   "metadata": {},
   "outputs": [
    {
     "data": {
      "text/plain": [
       "True"
      ]
     },
     "execution_count": 40,
     "metadata": {},
     "output_type": "execute_result"
    }
   ],
   "source": [
    "#in 예약어 : 리스트에 어떤 값이 있는지 검사\n",
    "\n",
    "'dwarf' in b_list"
   ]
  },
  {
   "cell_type": "code",
   "execution_count": 41,
   "id": "9f48a4ff",
   "metadata": {},
   "outputs": [
    {
     "data": {
      "text/plain": [
       "False"
      ]
     },
     "execution_count": 41,
     "metadata": {},
     "output_type": "execute_result"
    }
   ],
   "source": [
    "#not 예약서 : in과 반대\n",
    "\n",
    "'dwarf' not in b_list"
   ]
  },
  {
   "cell_type": "code",
   "execution_count": 44,
   "id": "71fda708",
   "metadata": {},
   "outputs": [
    {
     "data": {
      "text/plain": [
       "[4, None, 'foo', 7, 8, (2, 3)]"
      ]
     },
     "execution_count": 44,
     "metadata": {},
     "output_type": "execute_result"
    }
   ],
   "source": [
    "# +연산자 또는 extend메서드로 리스트 합치기 또는 여러 값 추가(extend쓰는게 +보다 속도 빠름)\n",
    "\n",
    "x = [4, None, 'foo']\n",
    "x.extend([7,8,(2,3)])\n",
    "x"
   ]
  },
  {
   "cell_type": "code",
   "execution_count": 45,
   "id": "09c2fcf1",
   "metadata": {},
   "outputs": [],
   "source": [
    "#sort 함수 : 리스트 정렬\n",
    "\n",
    "a = [7,2,1,5,6,3]"
   ]
  },
  {
   "cell_type": "code",
   "execution_count": 46,
   "id": "82571fd6",
   "metadata": {},
   "outputs": [],
   "source": [
    "a.sort()"
   ]
  },
  {
   "cell_type": "code",
   "execution_count": 47,
   "id": "c20d09a6",
   "metadata": {},
   "outputs": [
    {
     "data": {
      "text/plain": [
       "[1, 2, 3, 5, 6, 7]"
      ]
     },
     "execution_count": 47,
     "metadata": {},
     "output_type": "execute_result"
    }
   ],
   "source": [
    "a"
   ]
  },
  {
   "cell_type": "code",
   "execution_count": 48,
   "id": "d8f5803b",
   "metadata": {},
   "outputs": [],
   "source": [
    "# sort에서 정렬기준 세울 수 있음. 복사본은 생성 안함(sorted 함수는 복사본 생성)\n",
    "\n",
    "b = ['saw', 'small', 'He', 'foxes', 'six']\n",
    "b.sort(key = len)"
   ]
  },
  {
   "cell_type": "code",
   "execution_count": 49,
   "id": "e28cd4f6",
   "metadata": {},
   "outputs": [
    {
     "data": {
      "text/plain": [
       "['He', 'saw', 'six', 'small', 'foxes']"
      ]
     },
     "execution_count": 49,
     "metadata": {},
     "output_type": "execute_result"
    }
   ],
   "source": [
    "b"
   ]
  },
  {
   "cell_type": "code",
   "execution_count": 50,
   "id": "4bea368f",
   "metadata": {},
   "outputs": [
    {
     "data": {
      "text/plain": [
       "4"
      ]
     },
     "execution_count": 50,
     "metadata": {},
     "output_type": "execute_result"
    }
   ],
   "source": [
    "# bisect 모듈 : 이진 탐색과 정렬된 리스트에 값을 추가. \n",
    "# bisect.bisect : 값이 추가될 때 리스트가 정렬된 상태를 유지할 수 있는 위치 반환\n",
    "# bisect.insort : 실제로 정렬된 상태를 유지한 채 값을 추가\n",
    "\n",
    "import bisect\n",
    "\n",
    "c = [1,2,2,2,3,4,7]\n",
    "\n",
    "bisect.bisect(c,2)"
   ]
  },
  {
   "cell_type": "code",
   "execution_count": 51,
   "id": "3cebc72c",
   "metadata": {},
   "outputs": [
    {
     "data": {
      "text/plain": [
       "6"
      ]
     },
     "execution_count": 51,
     "metadata": {},
     "output_type": "execute_result"
    }
   ],
   "source": [
    "bisect.bisect(c,5)"
   ]
  },
  {
   "cell_type": "code",
   "execution_count": 52,
   "id": "1fe7bcf7",
   "metadata": {},
   "outputs": [
    {
     "data": {
      "text/plain": [
       "[1, 2, 2, 2, 3, 4, 6, 7]"
      ]
     },
     "execution_count": 52,
     "metadata": {},
     "output_type": "execute_result"
    }
   ],
   "source": [
    "bisect.insort(c,6)\n",
    "c"
   ]
  },
  {
   "cell_type": "code",
   "execution_count": 53,
   "id": "0329fd5a",
   "metadata": {},
   "outputs": [],
   "source": [
    "#슬라이싱[start:stop] 이용하여 원하는 크기만큼 잘라내거나 다른 순차 자료형 대입도 가능. -로 index 설정가능\n",
    "\n",
    "seq = [4,5,6,3,2,0,3,7]"
   ]
  },
  {
   "cell_type": "code",
   "execution_count": 54,
   "id": "755755e3",
   "metadata": {},
   "outputs": [
    {
     "data": {
      "text/plain": [
       "[5, 6, 3, 2]"
      ]
     },
     "execution_count": 54,
     "metadata": {},
     "output_type": "execute_result"
    }
   ],
   "source": [
    "seq[1:5] #start는 포함되지만 stop은 포함안됨! start나 stop 생략가능. 이때는 맨 처음이나 맨 마지막값이 자동으로 "
   ]
  },
  {
   "cell_type": "code",
   "execution_count": 55,
   "id": "84ea73bb",
   "metadata": {},
   "outputs": [
    {
     "data": {
      "text/plain": [
       "[4, 6, 2, 3]"
      ]
     },
     "execution_count": 55,
     "metadata": {},
     "output_type": "execute_result"
    }
   ],
   "source": [
    "# ::이용하여 간격 설정. 간격값으로 -1쓰면 역순반환\n",
    "\n",
    "seq[::2]"
   ]
  },
  {
   "cell_type": "code",
   "execution_count": 56,
   "id": "0c858ced",
   "metadata": {},
   "outputs": [],
   "source": [
    "#3.1.3 내장 순차 자료형 함수\n",
    "\n",
    "# enumerate : 순차 자료형에 현재 아이템의 색인을 함께 처리하고자 할 때 사용\n",
    "\n",
    "some_list = ['foo', 'bar', 'baz']"
   ]
  },
  {
   "cell_type": "code",
   "execution_count": 57,
   "id": "ebbdf8ba",
   "metadata": {},
   "outputs": [],
   "source": [
    "mapping = {} #{} :dict"
   ]
  },
  {
   "cell_type": "code",
   "execution_count": 58,
   "id": "1569da17",
   "metadata": {},
   "outputs": [],
   "source": [
    "for i, v in enumerate(some_list):\n",
    "    mapping[v] = i"
   ]
  },
  {
   "cell_type": "code",
   "execution_count": 59,
   "id": "a590e316",
   "metadata": {},
   "outputs": [
    {
     "data": {
      "text/plain": [
       "{'foo': 0, 'bar': 1, 'baz': 2}"
      ]
     },
     "execution_count": 59,
     "metadata": {},
     "output_type": "execute_result"
    }
   ],
   "source": [
    "mapping"
   ]
  },
  {
   "cell_type": "code",
   "execution_count": 60,
   "id": "71b3342f",
   "metadata": {},
   "outputs": [
    {
     "data": {
      "text/plain": [
       "[1, 2, 3, 4, 4, 7, 9]"
      ]
     },
     "execution_count": 60,
     "metadata": {},
     "output_type": "execute_result"
    }
   ],
   "source": [
    "#sorted : 정렬된 새로운 순차 자료형을 반환 + reversed는 역순으로 \n",
    "\n",
    "sorted([7,4,2,4,9,1,3])"
   ]
  },
  {
   "cell_type": "code",
   "execution_count": 63,
   "id": "203e7c7c",
   "metadata": {},
   "outputs": [
    {
     "data": {
      "text/plain": [
       "[('foo', 1), ('bar', 2), ('baz', 3)]"
      ]
     },
     "execution_count": 63,
     "metadata": {},
     "output_type": "execute_result"
    }
   ],
   "source": [
    "#zip : 여러개의 리스트나 튜플 또는 다른 순차 자료형을 짝지어서 튜플의 리스트 생성\n",
    "\n",
    "seq1 = ['foo', 'bar', 'baz']\n",
    "seq2 = [1,2,3]\n",
    "\n",
    "zipped = zip(seq1, seq2)\n",
    "\n",
    "list(zipped)"
   ]
  },
  {
   "cell_type": "code",
   "execution_count": 64,
   "id": "a7a6f443",
   "metadata": {},
   "outputs": [],
   "source": [
    "#3.1.4 사전(dict) : 가장 중요! 해시맵 또는 연관 배열이라고 알려져있음. \n",
    "#유연한 크기를 가지는 키-값 쌍으로 구성됨.{}이용.키는 값이 바뀌지 않는 객체만 가능\n",
    "\n",
    "empty_dict = {}"
   ]
  },
  {
   "cell_type": "code",
   "execution_count": 65,
   "id": "77f97560",
   "metadata": {},
   "outputs": [],
   "source": [
    "d1 = {'a' : 'some value', 'b' : [1,2,3,4]}"
   ]
  },
  {
   "cell_type": "code",
   "execution_count": 66,
   "id": "bd7af34c",
   "metadata": {},
   "outputs": [
    {
     "data": {
      "text/plain": [
       "{'a': 'some value', 'b': [1, 2, 3, 4]}"
      ]
     },
     "execution_count": 66,
     "metadata": {},
     "output_type": "execute_result"
    }
   ],
   "source": [
    "d1"
   ]
  },
  {
   "cell_type": "code",
   "execution_count": 67,
   "id": "993af7bc",
   "metadata": {},
   "outputs": [],
   "source": [
    "#dict에 값 추가\n",
    "d1[7] = 'an integer'"
   ]
  },
  {
   "cell_type": "code",
   "execution_count": 68,
   "id": "48a98e57",
   "metadata": {},
   "outputs": [
    {
     "data": {
      "text/plain": [
       "{'a': 'some value', 'b': [1, 2, 3, 4], 7: 'an integer'}"
      ]
     },
     "execution_count": 68,
     "metadata": {},
     "output_type": "execute_result"
    }
   ],
   "source": [
    "d1"
   ]
  },
  {
   "cell_type": "code",
   "execution_count": 69,
   "id": "0f999f26",
   "metadata": {},
   "outputs": [
    {
     "data": {
      "text/plain": [
       "{'a': 'some value', 'b': [1, 2, 3, 4]}"
      ]
     },
     "execution_count": 69,
     "metadata": {},
     "output_type": "execute_result"
    }
   ],
   "source": [
    "#del 예약어나 pop메서드로 사전 값 삭제 가능\n",
    "\n",
    "del d1[7]\n",
    "d1"
   ]
  },
  {
   "cell_type": "code",
   "execution_count": 71,
   "id": "18fc7289",
   "metadata": {},
   "outputs": [],
   "source": [
    "ret = d1.pop('a')"
   ]
  },
  {
   "cell_type": "code",
   "execution_count": 72,
   "id": "809155dc",
   "metadata": {},
   "outputs": [
    {
     "data": {
      "text/plain": [
       "'some value'"
      ]
     },
     "execution_count": 72,
     "metadata": {},
     "output_type": "execute_result"
    }
   ],
   "source": [
    "ret"
   ]
  },
  {
   "cell_type": "code",
   "execution_count": 73,
   "id": "b423a869",
   "metadata": {},
   "outputs": [
    {
     "data": {
      "text/plain": [
       "{'b': [1, 2, 3, 4]}"
      ]
     },
     "execution_count": 73,
     "metadata": {},
     "output_type": "execute_result"
    }
   ],
   "source": [
    "d1"
   ]
  },
  {
   "cell_type": "code",
   "execution_count": 74,
   "id": "a3aa2e1f",
   "metadata": {},
   "outputs": [
    {
     "data": {
      "text/plain": [
       "['b']"
      ]
     },
     "execution_count": 74,
     "metadata": {},
     "output_type": "execute_result"
    }
   ],
   "source": [
    "#keys와 values메서드는 각각 키와 값이 담긴 이터레이터 반환\n",
    "\n",
    "list(d1.keys())"
   ]
  },
  {
   "cell_type": "code",
   "execution_count": 76,
   "id": "7f0abc60",
   "metadata": {},
   "outputs": [
    {
     "data": {
      "text/plain": [
       "[[1, 2, 3, 4]]"
      ]
     },
     "execution_count": 76,
     "metadata": {},
     "output_type": "execute_result"
    }
   ],
   "source": [
    "list(d1.values())"
   ]
  },
  {
   "cell_type": "code",
   "execution_count": 77,
   "id": "b14702e8",
   "metadata": {},
   "outputs": [
    {
     "data": {
      "text/plain": [
       "{'b': 'foo', 'c': 12}"
      ]
     },
     "execution_count": 77,
     "metadata": {},
     "output_type": "execute_result"
    }
   ],
   "source": [
    "#update메서드로 다른 dict과 결합 가능. 이미 존재하는 key에 대해서는 이전 값 대체됨\n",
    "\n",
    "d1.update({'b':'foo', 'c':12})\n",
    "\n",
    "d1"
   ]
  },
  {
   "cell_type": "code",
   "execution_count": null,
   "id": "09f5ab20",
   "metadata": {},
   "outputs": [],
   "source": [
    "#기본값\n",
    "\n",
    "if key in some_dict:\n",
    "    value = some_dict[key]\n",
    "else:\n",
    "    value = default_value\n",
    "    \n",
    "#or\n",
    "\n",
    "value = some_dict.get(key, default_value)"
   ]
  },
  {
   "cell_type": "code",
   "execution_count": 78,
   "id": "20856a78",
   "metadata": {},
   "outputs": [
    {
     "data": {
      "text/plain": [
       "{1, 2, 3, 4, 5}"
      ]
     },
     "execution_count": 78,
     "metadata": {},
     "output_type": "execute_result"
    }
   ],
   "source": [
    "#3.1.5집합 : 유일한 원소만 담는 정렬되지 않은 자료형. 키만 있는 사전같은 형태. set함수나 {}로 생성. 원소 변경 불가능\n",
    "\n",
    "set([2,2,3,3,1,4,5])"
   ]
  },
  {
   "cell_type": "code",
   "execution_count": 79,
   "id": "299eb361",
   "metadata": {},
   "outputs": [
    {
     "data": {
      "text/plain": [
       "{1, 2, 3, 4, 5}"
      ]
     },
     "execution_count": 79,
     "metadata": {},
     "output_type": "execute_result"
    }
   ],
   "source": [
    "{2,2,3,4,5,1,5}"
   ]
  },
  {
   "cell_type": "code",
   "execution_count": 80,
   "id": "2cb4b402",
   "metadata": {},
   "outputs": [],
   "source": [
    "#두 개의 집합에 대한 합집합, 교집합 등과 같은 산술 집합 연산 제공됨\n",
    "\n",
    "a = {1,2,3,4,5}\n",
    "b = {3,4,5,6,7,8}"
   ]
  },
  {
   "cell_type": "code",
   "execution_count": 81,
   "id": "b319f350",
   "metadata": {},
   "outputs": [
    {
     "data": {
      "text/plain": [
       "{1, 2, 3, 4, 5, 6, 7, 8}"
      ]
     },
     "execution_count": 81,
     "metadata": {},
     "output_type": "execute_result"
    }
   ],
   "source": [
    "a.union(b)"
   ]
  },
  {
   "cell_type": "code",
   "execution_count": 82,
   "id": "db849b20",
   "metadata": {},
   "outputs": [
    {
     "data": {
      "text/plain": [
       "{3, 4, 5}"
      ]
     },
     "execution_count": 82,
     "metadata": {},
     "output_type": "execute_result"
    }
   ],
   "source": [
    "a.intersection(b)"
   ]
  },
  {
   "cell_type": "code",
   "execution_count": 83,
   "id": "0d1f6365",
   "metadata": {},
   "outputs": [
    {
     "data": {
      "text/plain": [
       "['BAT', 'CAR', 'DOVE', 'PYTHON']"
      ]
     },
     "execution_count": 83,
     "metadata": {},
     "output_type": "execute_result"
    }
   ],
   "source": [
    "#3.1.6 리스트, 집합, 사전 표기법 : 원래의 자료형으로 새로운 자료형 만들기\n",
    "\n",
    "#리스트 표기법 : [expr for val in collection if condition]\n",
    "#집합 및 사전 표기법도 위와 유사\n",
    "\n",
    "strings = ['a', 'as', 'bat', 'car', 'dove', 'python']\n",
    "\n",
    "[x.upper() for x in strings if len(x) > 2]"
   ]
  },
  {
   "cell_type": "code",
   "execution_count": 84,
   "id": "a44c731a",
   "metadata": {},
   "outputs": [
    {
     "data": {
      "text/plain": [
       "{'a': 0, 'as': 1, 'bat': 2, 'car': 3, 'dove': 4, 'python': 5}"
      ]
     },
     "execution_count": 84,
     "metadata": {},
     "output_type": "execute_result"
    }
   ],
   "source": [
    "{val : index for index, val in enumerate(strings)}"
   ]
  },
  {
   "cell_type": "markdown",
   "id": "29934505",
   "metadata": {},
   "source": [
    "# 3.2 함수"
   ]
  },
  {
   "cell_type": "code",
   "execution_count": 85,
   "id": "7397b627",
   "metadata": {},
   "outputs": [],
   "source": [
    "# def예약어로 정의 후 return예약어를 통해 값 반환\n",
    "\n",
    "def my_function(x,y,z=1.5):#x,y는 일반인자 / z는 키워드 인자로서 기본값 또는 부수적인 인자. 키워드 인자는 항상 일반인자 다음에!!\n",
    "    if z > 1 :\n",
    "        return z * (x+y)\n",
    "    else:\n",
    "        return z/(x+y)"
   ]
  },
  {
   "cell_type": "code",
   "execution_count": 86,
   "id": "429cb337",
   "metadata": {},
   "outputs": [
    {
     "data": {
      "text/plain": [
       "16.5"
      ]
     },
     "execution_count": 86,
     "metadata": {},
     "output_type": "execute_result"
    }
   ],
   "source": [
    "my_function(5,6)"
   ]
  },
  {
   "cell_type": "code",
   "execution_count": 87,
   "id": "9003b7e4",
   "metadata": {},
   "outputs": [
    {
     "data": {
      "text/plain": [
       "30"
      ]
     },
     "execution_count": 87,
     "metadata": {},
     "output_type": "execute_result"
    }
   ],
   "source": [
    "my_function(7,8,2)"
   ]
  },
  {
   "cell_type": "code",
   "execution_count": null,
   "id": "3202f40f",
   "metadata": {},
   "outputs": [],
   "source": [
    "#3.2.1 네임스페이스, 스코프, 지역함수\n",
    "\n",
    "def func():\n",
    "    a = []\n",
    "    for i in range(5):\n",
    "        a.append(i)\n",
    "        \n",
    "        \n",
    "#or\n",
    "\n",
    "a = []\n",
    "\n",
    "def func():\n",
    "    for i in range(5):\n",
    "        a.append(i)"
   ]
  },
  {
   "cell_type": "code",
   "execution_count": 89,
   "id": "1a1ddb0c",
   "metadata": {},
   "outputs": [],
   "source": [
    "#3.2.2 여러 값 반환하기\n",
    "\n",
    "def f():\n",
    "    a = 5\n",
    "    b = 6\n",
    "    c = 7\n",
    "    return a,b,c #튜플 형태로 반환. 사전 형태로도 가능\n",
    "\n",
    "a,b,c = f()"
   ]
  },
  {
   "cell_type": "code",
   "execution_count": 90,
   "id": "5552461d",
   "metadata": {},
   "outputs": [
    {
     "data": {
      "text/plain": [
       "5"
      ]
     },
     "execution_count": 90,
     "metadata": {},
     "output_type": "execute_result"
    }
   ],
   "source": [
    "a"
   ]
  },
  {
   "cell_type": "code",
   "execution_count": null,
   "id": "99e89d08",
   "metadata": {},
   "outputs": [],
   "source": [
    "#3.2.4 익명 함수(람다 함수) : 값을 반환하는 단순한 한 문장으로 이루어진 함수\n",
    "\n",
    "def short_function(x):\n",
    "    return x *2\n",
    "\n",
    "#or\n",
    "\n",
    "equiv_anon = lambda x : x*2"
   ]
  },
  {
   "cell_type": "code",
   "execution_count": 91,
   "id": "b24eddf9",
   "metadata": {},
   "outputs": [],
   "source": [
    "#3.2.6 제너레이터 : 순회가능한 객체를 생성. 함수에서 return대신 yield예약어 사용\n",
    "\n",
    "def squares(n=10):\n",
    "    print(\"Generating squares from 1 to {0}\".format(n**2))\n",
    "    for i in range(1, n+1):\n",
    "        yield i ** 2"
   ]
  },
  {
   "cell_type": "code",
   "execution_count": 94,
   "id": "c2246cf4",
   "metadata": {},
   "outputs": [
    {
     "data": {
      "text/plain": [
       "<generator object squares at 0x75b02953c0>"
      ]
     },
     "execution_count": 94,
     "metadata": {},
     "output_type": "execute_result"
    }
   ],
   "source": [
    "gen = squares() #호출만하면 코드 실행 안됨 아래처럼 값 요청해야됨\n",
    "gen"
   ]
  },
  {
   "cell_type": "code",
   "execution_count": 95,
   "id": "83ecb19a",
   "metadata": {},
   "outputs": [
    {
     "name": "stdout",
     "output_type": "stream",
     "text": [
      "Generating squares from 1 to 100\n",
      "1 4 9 16 25 36 49 64 81 100 "
     ]
    }
   ],
   "source": [
    "for x in gen:\n",
    "    print(x, end=' ')"
   ]
  },
  {
   "cell_type": "code",
   "execution_count": 96,
   "id": "2f035164",
   "metadata": {},
   "outputs": [
    {
     "data": {
      "text/plain": [
       "<generator object <genexpr> at 0x75b02950b0>"
      ]
     },
     "execution_count": 96,
     "metadata": {},
     "output_type": "execute_result"
    }
   ],
   "source": [
    "#제너레이터 표현식\n",
    "\n",
    "gen = (x ** 2 for x in range(100))\n",
    "gen"
   ]
  },
  {
   "cell_type": "markdown",
   "id": "cd7c414d",
   "metadata": {},
   "source": [
    "#  3.3 파일운영과 체제"
   ]
  },
  {
   "cell_type": "code",
   "execution_count": null,
   "id": "9e2744bf",
   "metadata": {},
   "outputs": [],
   "source": [
    "# open('path')로 경로 넘겨줌. 끝났을 때는 close() 써서 닫아줘야됨\n",
    "# 파일 읽을 때 read, seek, tell메서드 자주 사용"
   ]
  }
 ],
 "metadata": {
  "kernelspec": {
   "display_name": "Python 3 (ipykernel)",
   "language": "python",
   "name": "python3"
  },
  "language_info": {
   "codemirror_mode": {
    "name": "ipython",
    "version": 3
   },
   "file_extension": ".py",
   "mimetype": "text/x-python",
   "name": "python",
   "nbconvert_exporter": "python",
   "pygments_lexer": "ipython3",
   "version": "3.9.7"
  }
 },
 "nbformat": 4,
 "nbformat_minor": 5
}
